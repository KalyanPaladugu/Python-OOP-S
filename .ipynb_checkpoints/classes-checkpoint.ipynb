{
 "cells": [
  {
   "cell_type": "code",
   "execution_count": 3,
   "metadata": {},
   "outputs": [
    {
     "data": {
      "text/plain": [
       "['__and__',\n",
       " '__class__',\n",
       " '__contains__',\n",
       " '__delattr__',\n",
       " '__dir__',\n",
       " '__doc__',\n",
       " '__eq__',\n",
       " '__format__',\n",
       " '__ge__',\n",
       " '__getattribute__',\n",
       " '__gt__',\n",
       " '__hash__',\n",
       " '__iand__',\n",
       " '__init__',\n",
       " '__init_subclass__',\n",
       " '__ior__',\n",
       " '__isub__',\n",
       " '__iter__',\n",
       " '__ixor__',\n",
       " '__le__',\n",
       " '__len__',\n",
       " '__lt__',\n",
       " '__ne__',\n",
       " '__new__',\n",
       " '__or__',\n",
       " '__rand__',\n",
       " '__reduce__',\n",
       " '__reduce_ex__',\n",
       " '__repr__',\n",
       " '__ror__',\n",
       " '__rsub__',\n",
       " '__rxor__',\n",
       " '__setattr__',\n",
       " '__sizeof__',\n",
       " '__str__',\n",
       " '__sub__',\n",
       " '__subclasshook__',\n",
       " '__xor__',\n",
       " 'add',\n",
       " 'clear',\n",
       " 'copy',\n",
       " 'difference',\n",
       " 'difference_update',\n",
       " 'discard',\n",
       " 'intersection',\n",
       " 'intersection_update',\n",
       " 'isdisjoint',\n",
       " 'issubset',\n",
       " 'issuperset',\n",
       " 'pop',\n",
       " 'remove',\n",
       " 'symmetric_difference',\n",
       " 'symmetric_difference_update',\n",
       " 'union',\n",
       " 'update']"
      ]
     },
     "execution_count": 3,
     "metadata": {},
     "output_type": "execute_result"
    }
   ],
   "source": [
    "# Sets\n",
    "sets={4,23}\n",
    "dir(sets)"
   ]
  },
  {
   "cell_type": "code",
   "execution_count": 5,
   "metadata": {},
   "outputs": [
    {
     "data": {
      "text/plain": [
       "{'Benz': 2020, 'Honda': 2021}"
      ]
     },
     "execution_count": 5,
     "metadata": {},
     "output_type": "execute_result"
    }
   ],
   "source": [
    "# OOPs\n",
    "\n",
    "dir(dict)\n",
    "dictiona={\"key\":\"items\"}\n",
    "cars={\"Benz\":2020,\"Honda\":2021}\n",
    "cars"
   ]
  },
  {
   "cell_type": "code",
   "execution_count": 6,
   "metadata": {},
   "outputs": [
    {
     "data": {
      "text/plain": [
       "dict_keys(['Benz', 'Honda'])"
      ]
     },
     "execution_count": 6,
     "metadata": {},
     "output_type": "execute_result"
    }
   ],
   "source": [
    "cars.keys()"
   ]
  },
  {
   "cell_type": "code",
   "execution_count": 9,
   "metadata": {},
   "outputs": [
    {
     "data": {
      "text/plain": [
       "dict_items([('Benz', 2020), ('Honda', 2021)])"
      ]
     },
     "execution_count": 9,
     "metadata": {},
     "output_type": "execute_result"
    }
   ],
   "source": [
    "cars.items()"
   ]
  },
  {
   "cell_type": "markdown",
   "metadata": {},
   "source": [
    "# Python OOPs\n",
    "  + Class\n",
    "  + Object\n",
    "  + Inheritance\n",
    "  + constructor\n",
    "\n",
    "\n",
    "# Class\n",
    "\n",
    "  + Collection of variables and methods\n",
    "## Function\n",
    "      + collection of statements\n",
    "      \n",
    "# Method\n",
    "      + Function is existed with in the class is called as method\n",
    " \n",
    "#### Class syntax:\n",
    "     + class class_name:\n",
    "         + vars\n",
    "         + methods\n",
    "         "
   ]
  },
  {
   "cell_type": "code",
   "execution_count": 21,
   "metadata": {},
   "outputs": [
    {
     "name": "stdout",
     "output_type": "stream",
     "text": [
      "Addition of Two numbers 47\n"
     ]
    },
    {
     "data": {
      "text/plain": [
       "231"
      ]
     },
     "execution_count": 21,
     "metadata": {},
     "output_type": "execute_result"
    }
   ],
   "source": [
    "class Arith:\n",
    "    a=2\n",
    "    b=3\n",
    "    def addition():\n",
    "        a=3\n",
    "        b=44\n",
    "        print(\"Addition of Two numbers\",a+b)\n",
    "    def subtract(n1,n2):\n",
    "        return n1-n2\n",
    "\n",
    "# Arith.a\n",
    "# Arith.addition()\n",
    "        \n",
    "# Object is an instance of class\n",
    "obj1=Arith\n",
    "obj1.a\n",
    "obj1.addition()\n",
    "obj1.subtract(233,2)"
   ]
  },
  {
   "cell_type": "code",
   "execution_count": 31,
   "metadata": {},
   "outputs": [],
   "source": [
    "# Constructor\n",
    "#   + The main dvantage of construcotr is we can call function with out object\n",
    "class Math:\n",
    "     def __init__(self,n1,n2):\n",
    "            self.n1=n1\n",
    "            self.n2=n2\n",
    "#             print(\"Calling function with our use object\")\n",
    "           \n",
    "            \n",
    "obj3=Math(2,2)\n",
    "            \n",
    "           \n",
    "        "
   ]
  },
  {
   "cell_type": "code",
   "execution_count": 34,
   "metadata": {},
   "outputs": [
    {
     "name": "stdout",
     "output_type": "stream",
     "text": [
      "Constructor\n"
     ]
    }
   ],
   "source": [
    "class Demo:\n",
    "    def __div__(self):\n",
    "        print(\"Constructor\")\n",
    "obj4=Demo()\n",
    "obj4.__div__()"
   ]
  },
  {
   "cell_type": "code",
   "execution_count": 48,
   "metadata": {},
   "outputs": [
    {
     "data": {
      "text/plain": [
       "8"
      ]
     },
     "execution_count": 48,
     "metadata": {},
     "output_type": "execute_result"
    }
   ],
   "source": [
    "class Math:\n",
    "    def __init__(self,n1,n2):\n",
    "            self.n1=n1\n",
    "            self.n2=n2\n",
    "    def Addition(self):\n",
    "        print(self.n1)\n",
    "        print(self.n1)\n",
    "    def add2(self,n3):\n",
    "        return self.n1+self.n2+n3\n",
    "ar=Math(2,3)\n",
    "ar.add2(3)"
   ]
  },
  {
   "cell_type": "code",
   "execution_count": null,
   "metadata": {},
   "outputs": [],
   "source": [
    "# Package\n",
    "#  + It is collection of modules\n",
    "    # Module \n",
    "#     + it is a collection of classes and functions\n",
    "\n",
    "# To access modules, We have to use import keyword \n",
    "      '''  + import mymodule\n",
    "        + from mymodule import class\n",
    "        + from mymodule.class import fun\n",
    "        + from mymodule import *\n",
    "        '''"
   ]
  },
  {
   "cell_type": "code",
   "execution_count": null,
   "metadata": {},
   "outputs": [],
   "source": [
    "class UserInfo:\n",
    "    def setAddress(self,name,empid):\n",
    "        self.name=name\n",
    "        self.empid=empid\n",
    "    def showDetails(self):\n",
    "        print(name,'empid is ',empid)\n",
    "    "
   ]
  }
 ],
 "metadata": {
  "kernelspec": {
   "display_name": "Python 3",
   "language": "python",
   "name": "python3"
  },
  "language_info": {
   "codemirror_mode": {
    "name": "ipython",
    "version": 3
   },
   "file_extension": ".py",
   "mimetype": "text/x-python",
   "name": "python",
   "nbconvert_exporter": "python",
   "pygments_lexer": "ipython3",
   "version": "3.7.3"
  }
 },
 "nbformat": 4,
 "nbformat_minor": 2
}
