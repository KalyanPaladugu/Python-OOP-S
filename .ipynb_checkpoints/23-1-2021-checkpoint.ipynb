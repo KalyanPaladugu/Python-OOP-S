{
 "cells": [
  {
   "cell_type": "code",
   "execution_count": 2,
   "metadata": {},
   "outputs": [
    {
     "name": "stdout",
     "output_type": "stream",
     "text": [
      "Even numbers\n"
     ]
    }
   ],
   "source": [
    "# Even or Odd\n",
    "n=2\n",
    "if n%2==0:\n",
    "    print(\"Even number\")\n",
    "else:\n",
    "    print(\"Odd number\")"
   ]
  },
  {
   "cell_type": "code",
   "execution_count": 8,
   "metadata": {},
   "outputs": [
    {
     "name": "stdout",
     "output_type": "stream",
     "text": [
      "Enter year1700\n",
      "1700 Non leap year\n"
     ]
    }
   ],
   "source": [
    "#Leap year\n",
    "n=int(input(\"Enter year\"))\n",
    "if (n%400==0) or (n%100!=0 and n%4==0):\n",
    "    print(n,\" Leap year\")\n",
    "else:\n",
    "    print(n,\"Non leap year\")"
   ]
  },
  {
   "cell_type": "code",
   "execution_count": 14,
   "metadata": {},
   "outputs": [
    {
     "name": "stdout",
     "output_type": "stream",
     "text": [
      "Enter Password········\n",
      "Password is not matched\n"
     ]
    }
   ],
   "source": [
    "from getpass import getpass\n",
    "password=getpass(\"Enter Password\")\n",
    "if password==\"Ram\":\n",
    "    print(\"USer authentication is done\")\n",
    "else:\n",
    "    print(\"Password is not matched\")"
   ]
  },
  {
   "cell_type": "code",
   "execution_count": 16,
   "metadata": {},
   "outputs": [
    {
     "name": "stdout",
     "output_type": "stream",
     "text": [
      "0\n",
      "1\n",
      "2\n",
      "3\n"
     ]
    }
   ],
   "source": [
    "#iterations\n",
    "num=4\n",
    "s=0\n",
    "i=1\n",
    "while(i<=num):\n",
    "    print(s)\n",
    "    i+=1\n",
    "    s+=1"
   ]
  },
  {
   "cell_type": "code",
   "execution_count": 24,
   "metadata": {},
   "outputs": [
    {
     "data": {
      "text/plain": [
       "time.struct_time(tm_year=2021, tm_mon=1, tm_mday=23, tm_hour=5, tm_min=4, tm_sec=3, tm_wday=5, tm_yday=23, tm_isdst=0)"
      ]
     },
     "execution_count": 24,
     "metadata": {},
     "output_type": "execute_result"
    }
   ],
   "source": [
    "import time as demo\n",
    "demo.gmtime()"
   ]
  },
  {
   "cell_type": "code",
   "execution_count": 25,
   "metadata": {},
   "outputs": [
    {
     "ename": "ModuleNotFoundError",
     "evalue": "No module named 'calender'",
     "output_type": "error",
     "traceback": [
      "\u001b[1;31m---------------------------------------------------------------------------\u001b[0m",
      "\u001b[1;31mModuleNotFoundError\u001b[0m                       Traceback (most recent call last)",
      "\u001b[1;32m<ipython-input-25-da44453fa5b8>\u001b[0m in \u001b[0;36m<module>\u001b[1;34m\u001b[0m\n\u001b[1;32m----> 1\u001b[1;33m \u001b[1;32mimport\u001b[0m \u001b[0mcalender\u001b[0m \u001b[1;32mas\u001b[0m \u001b[0mca\u001b[0m\u001b[1;33m\u001b[0m\u001b[1;33m\u001b[0m\u001b[0m\n\u001b[0m\u001b[0;32m      2\u001b[0m \u001b[0mca\u001b[0m\u001b[1;33m\u001b[0m\u001b[1;33m\u001b[0m\u001b[0m\n",
      "\u001b[1;31mModuleNotFoundError\u001b[0m: No module named 'calender'"
     ]
    }
   ],
   "source": [
    "import calender as ca\n",
    "ca"
   ]
  },
  {
   "cell_type": "code",
   "execution_count": 27,
   "metadata": {},
   "outputs": [
    {
     "data": {
      "text/plain": [
       "4.0"
      ]
     },
     "execution_count": 27,
     "metadata": {},
     "output_type": "execute_result"
    }
   ],
   "source": [
    "import math\n",
    "math.sqrt(16)"
   ]
  },
  {
   "cell_type": "code",
   "execution_count": 29,
   "metadata": {},
   "outputs": [
    {
     "name": "stdout",
     "output_type": "stream",
     "text": [
      "The solution are 5 and 3\n"
     ]
    }
   ],
   "source": [
    "sol1=3\n",
    "sol2=5\n",
    "print('The solution are {1} and {0}'.format(sol1,sol2))"
   ]
  },
  {
   "cell_type": "code",
   "execution_count": 35,
   "metadata": {},
   "outputs": [
    {
     "name": "stdout",
     "output_type": "stream",
     "text": [
      "7 5\n"
     ]
    }
   ],
   "source": [
    "x=5\n",
    "y=7\n",
    "x = x + y   \n",
    "y = x - y  \n",
    "x = x - y   \n",
    "print(x,y)"
   ]
  },
  {
   "cell_type": "code",
   "execution_count": 36,
   "metadata": {},
   "outputs": [
    {
     "name": "stdout",
     "output_type": "stream",
     "text": [
      "5.0 7.0\n"
     ]
    }
   ],
   "source": [
    "x = x * y\n",
    "y = x / y\n",
    "x = x / y\n",
    "print(x,y)"
   ]
  },
  {
   "cell_type": "code",
   "execution_count": 38,
   "metadata": {},
   "outputs": [
    {
     "data": {
      "text/plain": [
       "7"
      ]
     },
     "execution_count": 38,
     "metadata": {},
     "output_type": "execute_result"
    }
   ],
   "source": [
    "a=2\n",
    "b=3\n",
    "c=5\n",
    "c+=a\n",
    "# c+=b\n",
    "c"
   ]
  },
  {
   "cell_type": "code",
   "execution_count": 44,
   "metadata": {},
   "outputs": [
    {
     "data": {
      "text/plain": [
       "3.897114317029974"
      ]
     },
     "execution_count": 44,
     "metadata": {},
     "output_type": "execute_result"
    }
   ],
   "source": [
    "# Area of triangle\n",
    "a=3\n",
    "b=3\n",
    "c=3\n",
    "s=(a+b+c)/2\n",
    "Area=(s*(s-a)*(s-b)*(s-c))**0.5\n",
    "Area"
   ]
  },
  {
   "cell_type": "code",
   "execution_count": 50,
   "metadata": {},
   "outputs": [
    {
     "name": "stdout",
     "output_type": "stream",
     "text": [
      "(-3-5.196152422706632j) (-3+5.196152422706632j)\n"
     ]
    }
   ],
   "source": [
    "#Quadratic equation\n",
    "import cmath\n",
    "a=3\n",
    "b=3\n",
    "c=3\n",
    "\n",
    "d=b**2 - (4*a*c)\n",
    "q1=-b-cmath.sqrt(d)\n",
    "q2=-b+cmath.sqrt(d)\n",
    "print(q1,q2)\n"
   ]
  },
  {
   "cell_type": "code",
   "execution_count": 69,
   "metadata": {},
   "outputs": [
    {
     "name": "stdout",
     "output_type": "stream",
     "text": [
      "Before swap 3 4\n",
      "After swap4 3 \n",
      "Before swap 4 and 3\n",
      "After swap 3 and 4\n",
      "Before swap  3 and 4\n",
      "After swap  4.0 and 3.0\n"
     ]
    }
   ],
   "source": [
    "#Swap of two numbers\n",
    "\n",
    "# 1.With 3rd variable\n",
    "a=3\n",
    "b=4\n",
    "print(\"Before swap %d %d\"%(a,b))\n",
    "temp=0\n",
    "temp=a\n",
    "a=b\n",
    "b=temp\n",
    "print(\"After swap%d% d \"%(a,b))\n",
    "\n",
    "\n",
    "# with out 3rd variable\n",
    "print(\"Before swap {0} and {1}\".format(a,b))\n",
    "a=a+b\n",
    "b=a-b\n",
    "a=a-b\n",
    "print(\"After swap {0} and {1}\".format(a,b))\n",
    "\n",
    "print(\"Before swap \",a,\"and\",b)\n",
    "a=a*b\n",
    "b=a/b\n",
    "a=a/b\n",
    "print(\"After swap \",a,\"and\",b)\n"
   ]
  },
  {
   "cell_type": "code",
   "execution_count": 70,
   "metadata": {},
   "outputs": [],
   "source": [
    "# Temperature conversion\n",
    "# c+1.8=f-32"
   ]
  },
  {
   "cell_type": "code",
   "execution_count": 72,
   "metadata": {},
   "outputs": [
    {
     "data": {
      "text/plain": [
       "True"
      ]
     },
     "execution_count": 72,
     "metadata": {},
     "output_type": "execute_result"
    }
   ],
   "source": [
    "import webbrowser\n",
    "webbrowser.open(\"www.apssdc.online\")"
   ]
  },
  {
   "cell_type": "code",
   "execution_count": null,
   "metadata": {},
   "outputs": [
    {
     "name": "stdout",
     "output_type": "stream",
     "text": [
      "Sat Jan 23 11:51:14 2021\n"
     ]
    }
   ],
   "source": [
    "import time,webbrowser\n",
    "\n",
    "print(time.ctime())\n",
    "\n",
    "breaks=4\n",
    "count=0\n",
    "\n",
    "while count<=breaks:\n",
    "    time.sleep(5)\n",
    "    if count==1:\n",
    "        webbrowser.open(\"www.google.com\")\n",
    "    elif count==2:\n",
    "        webbrowser.open(\"www.apssdc.onilne\")\n",
    "        \n",
    "    count+=1\n"
   ]
  },
  {
   "cell_type": "code",
   "execution_count": null,
   "metadata": {},
   "outputs": [],
   "source": []
  }
 ],
 "metadata": {
  "kernelspec": {
   "display_name": "Python 3",
   "language": "python",
   "name": "python3"
  },
  "language_info": {
   "codemirror_mode": {
    "name": "ipython",
    "version": 3
   },
   "file_extension": ".py",
   "mimetype": "text/x-python",
   "name": "python",
   "nbconvert_exporter": "python",
   "pygments_lexer": "ipython3",
   "version": "3.7.3"
  }
 },
 "nbformat": 4,
 "nbformat_minor": 2
}
