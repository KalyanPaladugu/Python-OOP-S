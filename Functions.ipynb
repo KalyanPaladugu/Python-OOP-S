{
 "cells": [
  {
   "cell_type": "code",
   "execution_count": 8,
   "metadata": {},
   "outputs": [
    {
     "name": "stdout",
     "output_type": "stream",
     "text": [
      "The  data of 1st index is 23\n",
      "The  data1 of 1st index is 23\n"
     ]
    }
   ],
   "source": [
    "# Function \n",
    "# + A Function is a block of code which runs only when it is called\n",
    "\n",
    "# Syntax:\n",
    "def Addition(a,b): # a and b are parameters\n",
    "        return a+b\n",
    "    \n",
    "Addition(23,3) # 23 and 3 are arguments for the a and b parameters respectively\n",
    "    \n",
    "# Arbitrary arguments [*args]\n",
    "\n",
    "def myadd(*data):\n",
    "    print(\"The  data of 1st index is\", data[1])\n",
    "\n",
    "myadd(\"dsd\",23,3213,3213,3)\n",
    "\n",
    "#Arbitrary Keyword arguments\n",
    "\n",
    "def myadd(**data1):\n",
    "    print(\"The  data1 of 1st index is\", data1['age'])\n",
    "\n",
    "myadd(name=\"dsd\",age=23,id=3213)"
   ]
  },
  {
   "cell_type": "code",
   "execution_count": 25,
   "metadata": {},
   "outputs": [
    {
     "name": "stdout",
     "output_type": "stream",
     "text": [
      "19\n",
      "20\n",
      "32\n",
      "22\n"
     ]
    }
   ],
   "source": [
    "# Filter\n",
    "\n",
    "ages=[12,19,14,20,32,22,11]\n",
    "\n",
    "# def myage(x):\n",
    "#     if x<18:\n",
    "#         return False\n",
    "#     else:\n",
    "#         return True\n",
    "    \n",
    "# adults=filter(myage,ages)\n",
    "\n",
    "# for x in adults:\n",
    "#     print(x)\n",
    "    \n",
    "\n",
    "def age(data):\n",
    "    ages=[12,19,14,20,32,22,11]\n",
    "    for i in ages:\n",
    "        if i > 18:\n",
    "            print(i)\n",
    "        \n",
    "age(ages)"
   ]
  },
  {
   "cell_type": "code",
   "execution_count": 27,
   "metadata": {},
   "outputs": [
    {
     "name": "stdout",
     "output_type": "stream",
     "text": [
      "Barking\n"
     ]
    }
   ],
   "source": [
    "class Animal:  \n",
    "    def speak(self):  \n",
    "        print(\"speaking\")  \n",
    "class Dog(Animal):  \n",
    "    def speak(self):  \n",
    "        print(\"Barking\")  \n",
    "d = Dog()  \n",
    "d.speak()  "
   ]
  },
  {
   "cell_type": "code",
   "execution_count": 28,
   "metadata": {},
   "outputs": [
    {
     "name": "stdout",
     "output_type": "stream",
     "text": [
      "The number of employees 2\n"
     ]
    },
    {
     "ename": "AttributeError",
     "evalue": "'Employee' object has no attribute '__count'",
     "output_type": "error",
     "traceback": [
      "\u001b[1;31m---------------------------------------------------------------------------\u001b[0m",
      "\u001b[1;31mAttributeError\u001b[0m                            Traceback (most recent call last)",
      "\u001b[1;32m<ipython-input-28-ad9a434d9cba>\u001b[0m in \u001b[0;36m<module>\u001b[1;34m\u001b[0m\n\u001b[0;32m      8\u001b[0m \u001b[0memp2\u001b[0m \u001b[1;33m=\u001b[0m \u001b[0mEmployee\u001b[0m\u001b[1;33m(\u001b[0m\u001b[1;33m)\u001b[0m\u001b[1;33m\u001b[0m\u001b[1;33m\u001b[0m\u001b[0m\n\u001b[0;32m      9\u001b[0m \u001b[1;32mtry\u001b[0m\u001b[1;33m:\u001b[0m\u001b[1;33m\u001b[0m\u001b[1;33m\u001b[0m\u001b[0m\n\u001b[1;32m---> 10\u001b[1;33m     \u001b[0mprint\u001b[0m\u001b[1;33m(\u001b[0m\u001b[0memp\u001b[0m\u001b[1;33m.\u001b[0m\u001b[0m__count\u001b[0m\u001b[1;33m)\u001b[0m\u001b[1;33m\u001b[0m\u001b[1;33m\u001b[0m\u001b[0m\n\u001b[0m\u001b[0;32m     11\u001b[0m \u001b[1;32mfinally\u001b[0m\u001b[1;33m:\u001b[0m\u001b[1;33m\u001b[0m\u001b[1;33m\u001b[0m\u001b[0m\n\u001b[0;32m     12\u001b[0m     \u001b[0memp\u001b[0m\u001b[1;33m.\u001b[0m\u001b[0mdisplay\u001b[0m\u001b[1;33m(\u001b[0m\u001b[1;33m)\u001b[0m\u001b[1;33m\u001b[0m\u001b[1;33m\u001b[0m\u001b[0m\n",
      "\u001b[1;31mAttributeError\u001b[0m: 'Employee' object has no attribute '__count'"
     ]
    }
   ],
   "source": [
    "class Employee:  \n",
    "    __count = 0;  \n",
    "    def __init__(self):  \n",
    "        Employee.__count = Employee.__count+1  \n",
    "    def display(self):  \n",
    "        print(\"The number of employees\",Employee.__count)  \n",
    "emp = Employee()  \n",
    "emp2 = Employee()  \n",
    "try:  \n",
    "    print(emp.__count)  \n",
    "finally:  \n",
    "    emp.display()  "
   ]
  },
  {
   "cell_type": "code",
   "execution_count": null,
   "metadata": {},
   "outputs": [],
   "source": []
  }
 ],
 "metadata": {
  "kernelspec": {
   "display_name": "Python 3",
   "language": "python",
   "name": "python3"
  },
  "language_info": {
   "codemirror_mode": {
    "name": "ipython",
    "version": 3
   },
   "file_extension": ".py",
   "mimetype": "text/x-python",
   "name": "python",
   "nbconvert_exporter": "python",
   "pygments_lexer": "ipython3",
   "version": "3.7.3"
  }
 },
 "nbformat": 4,
 "nbformat_minor": 2
}
